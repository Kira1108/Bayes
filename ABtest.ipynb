{
 "cells": [
  {
   "cell_type": "code",
   "execution_count": 1,
   "metadata": {},
   "outputs": [],
   "source": [
    "import numpy as np\n",
    "import matplotlib.pyplot as plt"
   ]
  },
  {
   "cell_type": "code",
   "execution_count": 30,
   "metadata": {},
   "outputs": [],
   "source": [
    "N = 20\n",
    "a = np.random.randn(N) + 2\n",
    "b = np.random.randn(N)\n",
    "\n",
    "ddof = 1\n",
    "vara = ((a - a.mean())**2).sum() / (N - ddof)\n",
    "varb = ((b - b.mean())**2).sum() / (N - ddof)\n",
    "sp = np.sqrt((vara + varb) / 2)\n",
    "t = (a.mean() - b.mean()) / (sp * np.sqrt(2 / N))"
   ]
  },
  {
   "cell_type": "code",
   "execution_count": 62,
   "metadata": {},
   "outputs": [
    {
     "name": "stdout",
     "output_type": "stream",
     "text": [
      "Z statistic: 1.9925174327863302\n",
      "Reject null hypothesis\n"
     ]
    }
   ],
   "source": [
    "# the population\n",
    "N = 1000\n",
    "P =np.random.randn(N)\n",
    "\n",
    "# the sample\n",
    "n = 20\n",
    "x = np.random.randn(n) + 2\n",
    "\n",
    "# Z statistic\n",
    "Z = (x.mean() - P.mean()) / P.std()\n",
    "\n",
    "from scipy import stats\n",
    "\n",
    "# significant level\n",
    "alpha = 0.05\n",
    "\n",
    "p = 1 - stats.norm.cdf(Z) \n",
    "reject = p < alpha\n",
    "\n",
    "print('Z statistic: {}'.format(Z))\n",
    "\n",
    "if reject:\n",
    "    print('Reject null hypothesis')\n",
    "else:\n",
    "    print('Unable to reject null hypothyesis')"
   ]
  },
  {
   "cell_type": "code",
   "execution_count": 76,
   "metadata": {},
   "outputs": [
    {
     "name": "stdout",
     "output_type": "stream",
     "text": [
      "Reject null\n"
     ]
    }
   ],
   "source": [
    "def ztest_simu(x, P, n_simus = 1000):\n",
    "\n",
    "    mean_diffs = np.random.choice(x, size = (n_simus, len(x)), replace = True).mean(axis = 1) - \\\n",
    "    np.random.choice(P,size = (n_simus,len(P)), replace = True).mean(axis = 1)\n",
    "\n",
    "    reject = np.percentile(mean_diffs,5) > 0\n",
    "\n",
    "\n",
    "    if reject:\n",
    "        print('Reject null')\n",
    "    else:\n",
    "        print('Unable to reject null')"
   ]
  },
  {
   "cell_type": "code",
   "execution_count": 89,
   "metadata": {},
   "outputs": [
    {
     "name": "stdout",
     "output_type": "stream",
     "text": [
      "Xiaoming: -2.566666666666667, Xiaohua: -3.5277777777777777\n"
     ]
    },
    {
     "data": {
      "image/png": "[encoded data removed]",
      "text/plain": [
       "<Figure size 432x288 with 1 Axes>"
      ]
     },
     "metadata": {},
     "output_type": "display_data"
    }
   ],
   "source": [
    "\n",
    "plt.style.use('ggplot')\n",
    "weibo_mean = 208\n",
    "wechat_mean = 190\n",
    "\n",
    "wechat_std = 36\n",
    "weibo_std = 60\n",
    "\n",
    "xiaoming_weibo = 54\n",
    "xiaohua_wechat = 63\n",
    "\n",
    "Z_xiaoming = (xiaoming_weibo - weibo_mean) / weibo_std\n",
    "Z_xiaohua = (xiaohua_wechat - wechat_mean) / wechat_std\n",
    "\n",
    "print('Xiaoming: {}, Xiaohua: {}'.format(Z_xiaoming, Z_xiaohua))\n",
    "\n",
    "plt.hist(stats.norm.rvs(loc = weibo_mean, scale = weibo_std, size = 2000),bins = 50)\n",
    "plt.axvline(xiaoming_weibo, linestyle = '--')\n",
    "\n",
    "plt.hist(stats.norm.rvs(loc = wechat_mean, scale = wechat_std, size = 2000),bins = 50, color = 'lightseagreen')\n",
    "plt.axvline(xiaohua_wechat, linestyle = '--', color = 'lightseagreen')\n",
    "plt.show()"
   ]
  },
  {
   "cell_type": "code",
   "execution_count": null,
   "metadata": {},
   "outputs": [],
   "source": []
  }
 ],
 "metadata": {
  "kernelspec": {
   "display_name": "py3",
   "language": "python",
   "name": "py3"
  },
  "language_info": {
   "codemirror_mode": {
    "name": "ipython",
    "version": 3
   },
   "file_extension": ".py",
   "mimetype": "text/x-python",
   "name": "python",
   "nbconvert_exporter": "python",
   "pygments_lexer": "ipython3",
   "version": "3.6.10"
  }
 },
 "nbformat": 4,
 "nbformat_minor": 4
}
